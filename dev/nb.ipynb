{
 "cells": [
  {
   "cell_type": "code",
   "execution_count": null,
   "metadata": {},
   "outputs": [],
   "source": [
    "import conversion_tools as ct\n",
    "def test_convert_units():\n",
    "\n",
    "    # 1 kg = 1000 g\n",
    "    assert ct.convert_unit(quant=1, units_in='kg', units_out='g',\n",
    "                           units = { 'kg': 1, 'g': 1000 }) == 1000\n",
    "    \n",
    "    assert ct.convert_bytes(1024, 'B', 'BIT') == 1024 * 8\n",
    "    assert ct.convert_bytes(1024, 'KB', 'MB') == 1\n",
    "\n",
    "test_convert_units()"
   ]
  },
  {
   "cell_type": "code",
   "execution_count": null,
   "metadata": {},
   "outputs": [],
   "source": [
    "import conversion_tools as ct\n",
    "def test_duration_parser():\n",
    "    assert ct.parse_duration('1 minute, 10 seconds, and 1 hour')[1].total_seconds() == 10 + 60 + 3600 \n",
    "    assert ct.parse_duration('1 minute, 10 seconds, and 1 hour')[1].days == 0\n",
    "    assert ct.parse_duration('1 minute, 10 seconds, and 1 hour')[1].seconds == 60 + 10 + 3600\n",
    "    assert(ct.parse_duration('11 hour and 125 minutes and 12 hours and 1 day')[0].days == 2)\n",
    "    assert(ct.parse_duration('11 hour and 125 minutes and 12 hours and 1 day')[0].hours == 1)\n",
    "    assert(ct.parse_duration('11 hour and 125 minutes and 12 hours and 1 day')[0].minutes == 5)\n",
    "    # 11 hours + 125 minutes + 12 hours + 1 day = 2 days, 1 hour, 5 minutes\n",
    "    print(ct.parse_duration('11 hour and 125 minutes and 12 hours and 1 day')[0])\n",
    "    assert(ct.parse_duration('2 weeks, 7 days, and 168 hours')[0].days == 28)\n",
    "\n",
    "\n",
    "test_duration_parser()"
   ]
  },
  {
   "cell_type": "code",
   "execution_count": null,
   "metadata": {},
   "outputs": [],
   "source": [
    "import json_cache as jc\n",
    "\n",
    "def test_json_cache():\n",
    "    duration = 2\n",
    "    cache = jc.JsonCache(\"./test_cache.json\", duration=duration)\n",
    "\n",
    "    print(\"Loading cache with data and initial duration of {} seconds\".format(duration))\n",
    "    cache.save({\"test\": \"data\"})\n",
    "    assert cache.load() == {\"test\": \"data\"}\n",
    "\n",
    "    print(cache.load())\n",
    "    print(\"Remaining time: {}\".format(cache.get_time_remaining()))\n",
    "\n",
    "    import time\n",
    "    time.sleep(cache.get_time_remaining() / 2)\n",
    "    assert cache.get_time_remaining() <= duration / 2\n",
    "\n",
    "    print(cache.load())\n",
    "    print(\"Remaining time: {}\".format(cache.get_time_remaining()))\n",
    "    time.sleep(duration / 2)\n",
    "    print(\"Remaining time: {}\".format(cache.get_time_remaining()))\n",
    "    time.sleep(duration / 2)\n",
    "    try:\n",
    "        cache.load()\n",
    "        assert False\n",
    "    except RuntimeError as e:\n",
    "        print(\"Cache expired as expected\")\n",
    "\n",
    "    assert cache.get_time_remaining() == 0\n",
    "    print(\"Test passed\")\n",
    "\n",
    "test_json_cache()"
   ]
  },
  {
   "cell_type": "code",
   "execution_count": null,
   "metadata": {},
   "outputs": [],
   "source": []
  },
  {
   "cell_type": "code",
   "execution_count": null,
   "metadata": {},
   "outputs": [],
   "source": [
    "import ollama_data_utils as odu\n",
    "import json\n",
    "\n",
    "\n",
    "def pp(data):\n",
    "    if isinstance(data, dict):\n",
    "        data.pop('modelfile', None)\n",
    "    print(json.dumps(data, indent=4))\n",
    "\n",
    "def test_ollama_data_utils():\n",
    "    m = odu.get_models()[1]\n",
    "    m['modelfile'] = None\n",
    "    print(json.dumps(m, indent=4))\n",
    "    #print(m['age'])\n",
    "    #print(json.dumps(m['weights_file_info'], indent=4))\n",
    "    \n",
    "    #print(json.dumps(odu.get_models(), indent=4))\n",
    "\n",
    "test_ollama_data_utils()"
   ]
  },
  {
   "cell_type": "code",
   "execution_count": 21,
   "metadata": {},
   "outputs": [
    {
     "name": "stdout",
     "output_type": "stream",
     "text": [
      "{\n",
      "    \"name\": \"phi:latest\",\n",
      "    \"last_modified\": \"2024-02-15T15:32:38.390715\",\n",
      "    \"age\": {\n",
      "        \"days\": 0,\n",
      "        \"seconds\": 0,\n",
      "        \"years\": 0,\n",
      "        \"months\": 3,\n",
      "        \"weeks\": 0,\n",
      "        \"hours\": 0,\n",
      "        \"minutes\": 0\n",
      "    },\n",
      "    \"model_params\": {\n",
      "        \"stop\": \"\\\"System:\\\"\"\n",
      "    },\n",
      "    \"system_message\": \"A chat between a curious user and an artificial intelligence assistant. The assistant gives helpful answers to the user's questions.\\n\",\n",
      "    \"template\": [\n",
      "        \"{{ if .System }}System: {{ .System }}{{ end }}\",\n",
      "        \"User: {{ .Prompt }}\",\n",
      "        \"Assistant:\"\n",
      "    ],\n",
      "    \"total_weights_size\": 1.4924086034297943,\n",
      "    \"total_weights_size_units\": \"GB\",\n",
      "    \"weights\": [\n",
      "        {\n",
      "            \"file_name\": \"sha256-04778965089b91318ad61d0995b7e44fad4b9a9f4e049d7be90932bf8812e828\",\n",
      "            \"file_path\": \"/usr/share/ollama/.ollama/models/blobs/sha256-04778965089b91318ad61d0995b7e44fad4b9a9f4e049d7be90932bf8812e828\",\n",
      "            \"file_size\": 1602461536.0,\n",
      "            \"file_size_units\": \"B\",\n",
      "            \"last_modification\": \"2024-02-01T07:30:15.032591\",\n",
      "            \"metadata_change_time\": \"2024-04-16T01:13:06.330098\",\n",
      "            \"hash\": \"04778965089b91318ad61d0995b7e44fad4b9a9f4e049d7be90932bf8812e828\",\n",
      "            \"dir\": \"/usr/share/ollama/.ollama/models/blobs\"\n",
      "        }\n",
      "    ]\n",
      "}\n"
     ]
    }
   ],
   "source": [
    "import ollama_data as od\n",
    "import json\n",
    "data = od.OllamaData(cache_path='./test/test_cache3.json', cache_time='30 second')\n",
    "\n",
    "def pp(data):\n",
    "    if isinstance(data, dict):\n",
    "        data.pop('modelfile', None)\n",
    "    print(json.dumps(data, indent=4))\n",
    "\n",
    "\n",
    "ms = data.get_model('phi')\n",
    "pp(ms)"
   ]
  },
  {
   "cell_type": "code",
   "execution_count": null,
   "metadata": {},
   "outputs": [],
   "source": [
    "results = data.search('[*].name')\n",
    "pp(results)"
   ]
  },
  {
   "cell_type": "code",
   "execution_count": null,
   "metadata": {},
   "outputs": [],
   "source": [
    "pp(data[0])"
   ]
  },
  {
   "cell_type": "code",
   "execution_count": null,
   "metadata": {},
   "outputs": [],
   "source": [
    "data.get_schema()\n",
    "\n",
    "data.search(\"[?name == 'llama3:latest'].weights\")\n",
    "\n",
    "\n"
   ]
  },
  {
   "cell_type": "code",
   "execution_count": null,
   "metadata": {},
   "outputs": [],
   "source": [
    "data.search(\"[?last_modified > '2024-03-16T00:00:00Z'].{name: name, modified: last_modified}\")\n"
   ]
  },
  {
   "cell_type": "code",
   "execution_count": null,
   "metadata": {},
   "outputs": [],
   "source": [
    "\n",
    "data.search(\"[0:3].{name: name, size: weights_size}\")\n",
    "\n",
    "q = \"[?total_weights_size > `7` && total_weights_size_units == 'GB'].{name: name, size: join('', [to_string(total_weights_size), ' ', total_weights_size_units])}\"\n",
    "data.search(q)\n"
   ]
  },
  {
   "cell_type": "code",
   "execution_count": null,
   "metadata": {},
   "outputs": [],
   "source": [
    "\n",
    "pp(data[0])"
   ]
  },
  {
   "cell_type": "code",
   "execution_count": null,
   "metadata": {},
   "outputs": [],
   "source": [
    "q = \"[?last_modified > '2024-01-11T00:00:00Z']\"\n",
    "data.search(q)"
   ]
  },
  {
   "cell_type": "code",
   "execution_count": null,
   "metadata": {},
   "outputs": [],
   "source": [
    "q = \"[?age.days > `1`].{name: name, age: age}\"\n",
    "data.search(q, regex=\"mistral\", regex_path=\"name\")\n",
    " "
   ]
  },
  {
   "cell_type": "code",
   "execution_count": null,
   "metadata": {},
   "outputs": [],
   "source": [
    "data.search('[*].{name: name}', regex=\"mistr|phi\", regex_path=\"name\")"
   ]
  },
  {
   "cell_type": "code",
   "execution_count": null,
   "metadata": {},
   "outputs": [],
   "source": [
    "print(json.dumps(data.search('[1:20].{name: name, size: total_weights_size}', regex=\"mistral\", regex_path=\"name\"), indent=4))"
   ]
  }
 ],
 "metadata": {
  "kernelspec": {
   "display_name": "base",
   "language": "python",
   "name": "python3"
  },
  "language_info": {
   "codemirror_mode": {
    "name": "ipython",
    "version": 3
   },
   "file_extension": ".py",
   "mimetype": "text/x-python",
   "name": "python",
   "nbconvert_exporter": "python",
   "pygments_lexer": "ipython3",
   "version": "3.11.5"
  }
 },
 "nbformat": 4,
 "nbformat_minor": 2
}
